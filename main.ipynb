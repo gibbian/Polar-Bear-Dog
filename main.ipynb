{
 "cells": [
  {
   "cell_type": "code",
   "execution_count": 1,
   "id": "2a4fd112-906f-441c-af58-e26097d30ae1",
   "metadata": {},
   "outputs": [],
   "source": [
    "# data manipulation \n",
    "import numpy as np\n",
    "import pandas as pd\n",
    "from numpy import mean\n",
    "from numpy import std\n",
    "# modeling utilities\n",
    "from sklearn import metrics\n",
    "from sklearn import preprocessing\n",
    "from sklearn import  linear_model\n",
    "from sklearn.model_selection import cross_val_score\n",
    "from sklearn.model_selection import train_test_split\n",
    "from sklearn.model_selection import cross_val_predict\n",
    "from sklearn.linear_model import LogisticRegression\n",
    "from sklearn.datasets import make_classification\n",
    "from sklearn.model_selection import cross_val_score\n",
    "from sklearn.model_selection import RepeatedStratifiedKFold\n",
    "from sklearn.preprocessing import OrdinalEncoder\n",
    "from sklearn.pipeline import Pipeline\n",
    "from sklearn.decomposition import PCA\n",
    "from sklearn.manifold import Isomap\n"
   ]
  },
  {
   "cell_type": "code",
   "execution_count": 2,
   "id": "8264ccf2-3bd7-42e8-a247-737551edac89",
   "metadata": {},
   "outputs": [],
   "source": [
    "credit_db = pd.read_csv('clean_dataset.csv')"
   ]
  },
  {
   "cell_type": "code",
   "execution_count": 3,
   "id": "9517aaaa-3e2e-4a0c-9090-a917c11c6331",
   "metadata": {},
   "outputs": [],
   "source": [
    "encoder = OrdinalEncoder()\n",
    "credit_db[\"Industry\"] = encoder.fit_transform(credit_db[[\"Industry\"]])\n",
    "credit_db[\"Ethnicity\"] = encoder.fit_transform(credit_db[[\"Ethnicity\"]])\n",
    "credit_db[\"Citizen\"] = encoder.fit_transform(credit_db[[\"Citizen\"]])"
   ]
  },
  {
   "cell_type": "code",
   "execution_count": 4,
   "id": "49790207-173a-4a63-8465-354749281955",
   "metadata": {},
   "outputs": [
    {
     "data": {
      "text/html": [
       "<div>\n",
       "<style scoped>\n",
       "    .dataframe tbody tr th:only-of-type {\n",
       "        vertical-align: middle;\n",
       "    }\n",
       "\n",
       "    .dataframe tbody tr th {\n",
       "        vertical-align: top;\n",
       "    }\n",
       "\n",
       "    .dataframe thead th {\n",
       "        text-align: right;\n",
       "    }\n",
       "</style>\n",
       "<table border=\"1\" class=\"dataframe\">\n",
       "  <thead>\n",
       "    <tr style=\"text-align: right;\">\n",
       "      <th></th>\n",
       "      <th>Gender</th>\n",
       "      <th>Age</th>\n",
       "      <th>Debt</th>\n",
       "      <th>Married</th>\n",
       "      <th>BankCustomer</th>\n",
       "      <th>Industry</th>\n",
       "      <th>Ethnicity</th>\n",
       "      <th>YearsEmployed</th>\n",
       "      <th>PriorDefault</th>\n",
       "      <th>Employed</th>\n",
       "      <th>CreditScore</th>\n",
       "      <th>DriversLicense</th>\n",
       "      <th>Citizen</th>\n",
       "      <th>ZipCode</th>\n",
       "      <th>Income</th>\n",
       "      <th>Approved</th>\n",
       "    </tr>\n",
       "  </thead>\n",
       "  <tbody>\n",
       "    <tr>\n",
       "      <th>0</th>\n",
       "      <td>1</td>\n",
       "      <td>30.83</td>\n",
       "      <td>0.000</td>\n",
       "      <td>1</td>\n",
       "      <td>1</td>\n",
       "      <td>7.0</td>\n",
       "      <td>4.0</td>\n",
       "      <td>1.25</td>\n",
       "      <td>1</td>\n",
       "      <td>1</td>\n",
       "      <td>1</td>\n",
       "      <td>0</td>\n",
       "      <td>0.0</td>\n",
       "      <td>202</td>\n",
       "      <td>0</td>\n",
       "      <td>1</td>\n",
       "    </tr>\n",
       "    <tr>\n",
       "      <th>1</th>\n",
       "      <td>0</td>\n",
       "      <td>58.67</td>\n",
       "      <td>4.460</td>\n",
       "      <td>1</td>\n",
       "      <td>1</td>\n",
       "      <td>9.0</td>\n",
       "      <td>1.0</td>\n",
       "      <td>3.04</td>\n",
       "      <td>1</td>\n",
       "      <td>1</td>\n",
       "      <td>6</td>\n",
       "      <td>0</td>\n",
       "      <td>0.0</td>\n",
       "      <td>43</td>\n",
       "      <td>560</td>\n",
       "      <td>1</td>\n",
       "    </tr>\n",
       "    <tr>\n",
       "      <th>2</th>\n",
       "      <td>0</td>\n",
       "      <td>24.50</td>\n",
       "      <td>0.500</td>\n",
       "      <td>1</td>\n",
       "      <td>1</td>\n",
       "      <td>9.0</td>\n",
       "      <td>1.0</td>\n",
       "      <td>1.50</td>\n",
       "      <td>1</td>\n",
       "      <td>0</td>\n",
       "      <td>0</td>\n",
       "      <td>0</td>\n",
       "      <td>0.0</td>\n",
       "      <td>280</td>\n",
       "      <td>824</td>\n",
       "      <td>1</td>\n",
       "    </tr>\n",
       "    <tr>\n",
       "      <th>3</th>\n",
       "      <td>1</td>\n",
       "      <td>27.83</td>\n",
       "      <td>1.540</td>\n",
       "      <td>1</td>\n",
       "      <td>1</td>\n",
       "      <td>7.0</td>\n",
       "      <td>4.0</td>\n",
       "      <td>3.75</td>\n",
       "      <td>1</td>\n",
       "      <td>1</td>\n",
       "      <td>5</td>\n",
       "      <td>1</td>\n",
       "      <td>0.0</td>\n",
       "      <td>100</td>\n",
       "      <td>3</td>\n",
       "      <td>1</td>\n",
       "    </tr>\n",
       "    <tr>\n",
       "      <th>4</th>\n",
       "      <td>1</td>\n",
       "      <td>20.17</td>\n",
       "      <td>5.625</td>\n",
       "      <td>1</td>\n",
       "      <td>1</td>\n",
       "      <td>7.0</td>\n",
       "      <td>4.0</td>\n",
       "      <td>1.71</td>\n",
       "      <td>1</td>\n",
       "      <td>0</td>\n",
       "      <td>0</td>\n",
       "      <td>0</td>\n",
       "      <td>1.0</td>\n",
       "      <td>120</td>\n",
       "      <td>0</td>\n",
       "      <td>1</td>\n",
       "    </tr>\n",
       "  </tbody>\n",
       "</table>\n",
       "</div>"
      ],
      "text/plain": [
       "   Gender    Age   Debt  Married  BankCustomer  Industry  Ethnicity  \\\n",
       "0       1  30.83  0.000        1             1       7.0        4.0   \n",
       "1       0  58.67  4.460        1             1       9.0        1.0   \n",
       "2       0  24.50  0.500        1             1       9.0        1.0   \n",
       "3       1  27.83  1.540        1             1       7.0        4.0   \n",
       "4       1  20.17  5.625        1             1       7.0        4.0   \n",
       "\n",
       "   YearsEmployed  PriorDefault  Employed  CreditScore  DriversLicense  \\\n",
       "0           1.25             1         1            1               0   \n",
       "1           3.04             1         1            6               0   \n",
       "2           1.50             1         0            0               0   \n",
       "3           3.75             1         1            5               1   \n",
       "4           1.71             1         0            0               0   \n",
       "\n",
       "   Citizen  ZipCode  Income  Approved  \n",
       "0      0.0      202       0         1  \n",
       "1      0.0       43     560         1  \n",
       "2      0.0      280     824         1  \n",
       "3      0.0      100       3         1  \n",
       "4      1.0      120       0         1  "
      ]
     },
     "execution_count": 4,
     "metadata": {},
     "output_type": "execute_result"
    }
   ],
   "source": [
    "credit_db.head()"
   ]
  },
  {
   "cell_type": "markdown",
   "id": "e76ecb41-f34a-4a00-8676-f3ae36dc69ba",
   "metadata": {},
   "source": [
    "### Control Variable"
   ]
  },
  {
   "cell_type": "code",
   "execution_count": 5,
   "id": "20b988c0-e88c-4b57-a460-4ae1a6912047",
   "metadata": {},
   "outputs": [],
   "source": [
    "X, X_test, y, y_test = train_test_split(credit_db.iloc[:,0:-1], credit_db.iloc[:,-1], \n",
    "                                                    test_size=0.33, random_state=42)"
   ]
  },
  {
   "cell_type": "code",
   "execution_count": 6,
   "id": "fe9c2f4e-6729-459b-a3e5-dbe0ec1e9f2b",
   "metadata": {},
   "outputs": [],
   "source": [
    "model = LogisticRegression()\n",
    "cv = RepeatedStratifiedKFold(n_splits=10, n_repeats=3, random_state=1)\n",
    "n_scores = cross_val_score(model, X, y, scoring='accuracy', cv=cv, n_jobs=-1)"
   ]
  },
  {
   "cell_type": "code",
   "execution_count": 7,
   "id": "c29fc2ae-0dde-4ce4-b4ba-b6a4e8526e44",
   "metadata": {},
   "outputs": [
    {
     "name": "stdout",
     "output_type": "stream",
     "text": [
      "Accuracy: 0.819 (0.065)\n"
     ]
    }
   ],
   "source": [
    "print('Accuracy: %.3f (%.3f)' % (mean(n_scores), std(n_scores)))"
   ]
  },
  {
   "cell_type": "markdown",
   "id": "a9d6da05-33a6-49f6-8f90-ffba5a9d6263",
   "metadata": {},
   "source": []
  },
  {
   "cell_type": "markdown",
   "id": "f0bedcea-2be5-49f7-adeb-e42d572101f6",
   "metadata": {},
   "source": [
    "### Principal Component Analysis (PCA)\n",
    "Principal Component Analysis is the process of computing the principle components of a dataset, and using a specified amount of them to preform a change of basis on the data, ignoring the rest. By projecting each data point onto the specified components it achieves a lower-dimentional dataframe for the actual data itself."
   ]
  },
  {
   "cell_type": "code",
   "execution_count": 8,
   "id": "68ea8434-52e9-416b-ac6d-fb807b076954",
   "metadata": {},
   "outputs": [],
   "source": [
    "n_score_mean = []\n",
    "n_score_std = []\n",
    "\n",
    "pcd_db = credit_db\n",
    "\n",
    "def pca_eval(target):\n",
    "    steps = [('pca', PCA(n_components=target)), ('m', LogisticRegression())]\n",
    "    model = Pipeline(steps=steps)\n",
    "    cv = RepeatedStratifiedKFold(n_splits=10, n_repeats=3, random_state=1)\n",
    "    n_scores = cross_val_score(model, X, y, scoring='accuracy', cv=cv, n_jobs=-1)\n",
    "    n_score_mean.append(mean(n_scores))\n",
    "    n_score_std.append(std(n_scores))\n",
    "\n",
    "\n",
    "for i in range(1,16):\n",
    "    pca_eval(i)\n"
   ]
  },
  {
   "cell_type": "code",
   "execution_count": 13,
   "id": "6707a450-d13b-4057-b864-b7c049cef3a5",
   "metadata": {},
   "outputs": [
    {
     "name": "stdout",
     "output_type": "stream",
     "text": [
      "Inital Number of Components : 15\n",
      "Total Components : Accuracy Mean (STD)\n",
      "\t15\t : \t0.842 (0.059)\n",
      "\t14\t : \t0.850 (0.049)\n",
      "\t13\t : \t0.846 (0.058)\n",
      "\t12\t : \t0.837 (0.052)\n",
      "\t11\t : \t0.811 (0.043)\n",
      "\t10\t : \t0.801 (0.049)\n",
      "\t9\t : \t0.792 (0.052)\n",
      "\t8\t : \t0.781 (0.056)\n",
      "\t7\t : \t0.779 (0.054)\n",
      "\t6\t : \t0.768 (0.057)\n",
      "\t5\t : \t0.769 (0.061)\n",
      "\t4\t : \t0.750 (0.064)\n",
      "\t3\t : \t0.670 (0.064)\n",
      "\t2\t : \t0.668 (0.057)\n",
      "\t1\t : \t0.664 (0.059)\n"
     ]
    }
   ],
   "source": [
    "i = 14\n",
    "print('Inital Number of Components = 15')\n",
    "print('Total Components : Accuracy Mean (STD)')\n",
    "for score in n_score_mean:\n",
    "    print('\\t%.0f\\t : \\t%.3f (%.3f)' % (i+1, n_score_mean[i], n_score_std[i]))\n",
    "    i = i-1"
   ]
  },
  {
   "cell_type": "markdown",
   "id": "45bb277e-cbbc-4b37-bf57-27829542b92a",
   "metadata": {},
   "source": [
    "Interestingly enough, at the time of our experimentations, removing none leads to a 84.2% accuracy, removing one leads to 85.0%, and removing 2, leads to a 84.6%.\n",
    "With this data it is save to infer that by removing 1 component from the dataframe, PCA manages to increase the accuracy of the linear regression model between the components and the target value. (i.e."
   ]
  },
  {
   "cell_type": "code",
   "execution_count": null,
   "id": "a6ff7257-6469-4344-bda1-de7f9edf46f7",
   "metadata": {},
   "outputs": [],
   "source": []
  }
 ],
 "metadata": {
  "kernelspec": {
   "display_name": "Python 3 (ipykernel)",
   "language": "python",
   "name": "python3"
  },
  "language_info": {
   "codemirror_mode": {
    "name": "ipython",
    "version": 3
   },
   "file_extension": ".py",
   "mimetype": "text/x-python",
   "name": "python",
   "nbconvert_exporter": "python",
   "pygments_lexer": "ipython3",
   "version": "3.9.7"
  }
 },
 "nbformat": 4,
 "nbformat_minor": 5
}
