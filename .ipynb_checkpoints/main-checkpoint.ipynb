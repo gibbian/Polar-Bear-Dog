{
 "cells": [
  {
   "cell_type": "code",
   "execution_count": 11,
   "id": "2a4fd112-906f-441c-af58-e26097d30ae1",
   "metadata": {},
   "outputs": [],
   "source": [
    "# data manipulation \n",
    "import numpy as np\n",
    "import pandas as pd\n",
    "# modeling utilities\n",
    "from sklearn import metrics\n",
    "from sklearn import preprocessing\n",
    "from sklearn import  linear_model\n",
    "from sklearn.model_selection import cross_val_score\n",
    "from sklearn.model_selection import train_test_split\n",
    "from sklearn.model_selection import cross_val_predict\n"
   ]
  },
  {
   "cell_type": "code",
   "execution_count": 15,
   "id": "8264ccf2-3bd7-42e8-a247-737551edac89",
   "metadata": {},
   "outputs": [],
   "source": [
    "nic_db = pd.read_csv('nic-cage.csv')"
   ]
  },
  {
   "cell_type": "code",
   "execution_count": 16,
   "id": "49790207-173a-4a63-8465-354749281955",
   "metadata": {},
   "outputs": [
    {
     "data": {
      "text/html": [
       "<div>\n",
       "<style scoped>\n",
       "    .dataframe tbody tr th:only-of-type {\n",
       "        vertical-align: middle;\n",
       "    }\n",
       "\n",
       "    .dataframe tbody tr th {\n",
       "        vertical-align: top;\n",
       "    }\n",
       "\n",
       "    .dataframe thead th {\n",
       "        text-align: right;\n",
       "    }\n",
       "</style>\n",
       "<table border=\"1\" class=\"dataframe\">\n",
       "  <thead>\n",
       "    <tr style=\"text-align: right;\">\n",
       "      <th></th>\n",
       "      <th>Movie</th>\n",
       "      <th>Rating</th>\n",
       "      <th>Character</th>\n",
       "      <th>Voice</th>\n",
       "      <th>Year</th>\n",
       "      <th>RottenTomatoes</th>\n",
       "    </tr>\n",
       "  </thead>\n",
       "  <tbody>\n",
       "    <tr>\n",
       "      <th>0</th>\n",
       "      <td>A Score to Settle</td>\n",
       "      <td>NR</td>\n",
       "      <td>Frank Pierce</td>\n",
       "      <td>0</td>\n",
       "      <td>2019</td>\n",
       "      <td>13</td>\n",
       "    </tr>\n",
       "    <tr>\n",
       "      <th>1</th>\n",
       "      <td>Spider-Man: Into the Spider-Verse</td>\n",
       "      <td>PG</td>\n",
       "      <td>Spider-Man Noir</td>\n",
       "      <td>1</td>\n",
       "      <td>2018</td>\n",
       "      <td>97</td>\n",
       "    </tr>\n",
       "    <tr>\n",
       "      <th>2</th>\n",
       "      <td>Between Worlds</td>\n",
       "      <td>R</td>\n",
       "      <td>Joe</td>\n",
       "      <td>0</td>\n",
       "      <td>2018</td>\n",
       "      <td>X</td>\n",
       "    </tr>\n",
       "    <tr>\n",
       "      <th>3</th>\n",
       "      <td>Teen Titans Go! To the Movies</td>\n",
       "      <td>PG</td>\n",
       "      <td>Superman</td>\n",
       "      <td>1</td>\n",
       "      <td>2018</td>\n",
       "      <td>91</td>\n",
       "    </tr>\n",
       "    <tr>\n",
       "      <th>4</th>\n",
       "      <td>211</td>\n",
       "      <td>R</td>\n",
       "      <td>Mike Chandler</td>\n",
       "      <td>0</td>\n",
       "      <td>2018</td>\n",
       "      <td>5</td>\n",
       "    </tr>\n",
       "  </tbody>\n",
       "</table>\n",
       "</div>"
      ],
      "text/plain": [
       "                               Movie Rating        Character  Voice  Year  \\\n",
       "0                  A Score to Settle     NR     Frank Pierce      0  2019   \n",
       "1  Spider-Man: Into the Spider-Verse     PG  Spider-Man Noir      1  2018   \n",
       "2                     Between Worlds      R              Joe      0  2018   \n",
       "3      Teen Titans Go! To the Movies     PG         Superman      1  2018   \n",
       "4                                211      R    Mike Chandler      0  2018   \n",
       "\n",
       "  RottenTomatoes  \n",
       "0             13  \n",
       "1             97  \n",
       "2              X  \n",
       "3             91  \n",
       "4              5  "
      ]
     },
     "execution_count": 16,
     "metadata": {},
     "output_type": "execute_result"
    }
   ],
   "source": [
    "nic_db.head()"
   ]
  },
  {
   "cell_type": "code",
   "execution_count": 19,
   "id": "9756e640-7ee0-4ce5-96c9-a737e42bf27f",
   "metadata": {},
   "outputs": [
    {
     "data": {
      "text/plain": [
       "Movie             object\n",
       "Rating            object\n",
       "Character         object\n",
       "Voice              int64\n",
       "Year               int64\n",
       "RottenTomatoes    object\n",
       "dtype: object"
      ]
     },
     "execution_count": 19,
     "metadata": {},
     "output_type": "execute_result"
    }
   ],
   "source": [
    "nic_db.dtypes"
   ]
  },
  {
   "cell_type": "code",
   "execution_count": 21,
   "id": "20b988c0-e88c-4b57-a460-4ae1a6912047",
   "metadata": {},
   "outputs": [],
   "source": [
    "X, X_test, y, y_test = train_test_split(nic_db.iloc[:,0:5], nic_db.iloc[:,-1], \n",
    "                                                    test_size=0.33, random_state=42)"
   ]
  },
  {
   "cell_type": "code",
   "execution_count": 30,
   "id": "6460b0c1-3a6d-4f26-8f41-9acecf81574b",
   "metadata": {},
   "outputs": [
    {
     "data": {
      "text/html": [
       "<div>\n",
       "<style scoped>\n",
       "    .dataframe tbody tr th:only-of-type {\n",
       "        vertical-align: middle;\n",
       "    }\n",
       "\n",
       "    .dataframe tbody tr th {\n",
       "        vertical-align: top;\n",
       "    }\n",
       "\n",
       "    .dataframe thead th {\n",
       "        text-align: right;\n",
       "    }\n",
       "</style>\n",
       "<table border=\"1\" class=\"dataframe\">\n",
       "  <thead>\n",
       "    <tr style=\"text-align: right;\">\n",
       "      <th></th>\n",
       "      <th>Movie</th>\n",
       "      <th>Rating</th>\n",
       "      <th>Character</th>\n",
       "      <th>Voice</th>\n",
       "      <th>Year</th>\n",
       "    </tr>\n",
       "  </thead>\n",
       "  <tbody>\n",
       "    <tr>\n",
       "      <th>40</th>\n",
       "      <td>Next</td>\n",
       "      <td>PG-13</td>\n",
       "      <td>Cris Johnson</td>\n",
       "      <td>0</td>\n",
       "      <td>2007</td>\n",
       "    </tr>\n",
       "    <tr>\n",
       "      <th>22</th>\n",
       "      <td>Rage</td>\n",
       "      <td>NR</td>\n",
       "      <td>Paul Maguire</td>\n",
       "      <td>0</td>\n",
       "      <td>2014</td>\n",
       "    </tr>\n",
       "    <tr>\n",
       "      <th>55</th>\n",
       "      <td>The Family Man</td>\n",
       "      <td>PG-13</td>\n",
       "      <td>Jack Campbell</td>\n",
       "      <td>0</td>\n",
       "      <td>2000</td>\n",
       "    </tr>\n",
       "    <tr>\n",
       "      <th>88</th>\n",
       "      <td>Valley Girl</td>\n",
       "      <td>R</td>\n",
       "      <td>Randy</td>\n",
       "      <td>0</td>\n",
       "      <td>1983</td>\n",
       "    </tr>\n",
       "    <tr>\n",
       "      <th>0</th>\n",
       "      <td>A Score to Settle</td>\n",
       "      <td>NR</td>\n",
       "      <td>Frank Pierce</td>\n",
       "      <td>0</td>\n",
       "      <td>2019</td>\n",
       "    </tr>\n",
       "  </tbody>\n",
       "</table>\n",
       "</div>"
      ],
      "text/plain": [
       "                Movie Rating      Character  Voice  Year\n",
       "40               Next  PG-13   Cris Johnson      0  2007\n",
       "22               Rage     NR   Paul Maguire      0  2014\n",
       "55     The Family Man  PG-13  Jack Campbell      0  2000\n",
       "88        Valley Girl      R          Randy      0  1983\n",
       "0   A Score to Settle     NR   Frank Pierce      0  2019"
      ]
     },
     "execution_count": 30,
     "metadata": {},
     "output_type": "execute_result"
    }
   ],
   "source": [
    "X_test.head()"
   ]
  },
  {
   "cell_type": "code",
   "execution_count": null,
   "id": "6fa85d35-7a15-4c53-b76f-940883c49ada",
   "metadata": {},
   "outputs": [],
   "source": []
  }
 ],
 "metadata": {
  "kernelspec": {
   "display_name": "Python 3 (ipykernel)",
   "language": "python",
   "name": "python3"
  },
  "language_info": {
   "codemirror_mode": {
    "name": "ipython",
    "version": 3
   },
   "file_extension": ".py",
   "mimetype": "text/x-python",
   "name": "python",
   "nbconvert_exporter": "python",
   "pygments_lexer": "ipython3",
   "version": "3.9.7"
  }
 },
 "nbformat": 4,
 "nbformat_minor": 5
}
